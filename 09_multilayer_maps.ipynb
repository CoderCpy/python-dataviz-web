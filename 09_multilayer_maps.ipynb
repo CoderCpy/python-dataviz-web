{
 "cells": [
  {
   "cell_type": "markdown",
   "id": "fd708770-59b8-4fb9-acce-2b2d837d88e6",
   "metadata": {},
   "source": [
    "# Creating Multi-layer Interactive Maps\n",
    "\n",
    "[Folium](https://python-visualization.github.io/folium/) supports creating maps with multiple layers. Recent versions of GeoPandas have built-in support to create interactive folium maps from a GeoDataFrame. \n",
    "\n",
    "In this section, we will create a multi-layer interactive map using 2 vector datasets."
   ]
  },
  {
   "cell_type": "code",
   "execution_count": null,
   "id": "df487246-fb38-451f-a76d-ffbb7ad95a0f",
   "metadata": {},
   "outputs": [],
   "source": [
    "import os\n",
    "import folium\n",
    "import geopandas as gpd"
   ]
  },
  {
   "cell_type": "code",
   "execution_count": null,
   "id": "f7160910-408b-43a3-818e-9adde154debc",
   "metadata": {},
   "outputs": [],
   "source": [
    "data_pkg_path = 'data'\n",
    "filename = 'karnataka.gpkg'\n",
    "path = os.path.join(data_pkg_path, 'roads', filename)\n",
    "roads_gdf = gpd.read_file(path, layer='karnataka_major_roads')\n",
    "districts_gdf = gpd.read_file(path, layer='karnataka_districts')\n",
    "state_gdf = gpd.read_file(path, layer='karnataka')\n"
   ]
  },
  {
   "cell_type": "markdown",
   "id": "79f7abbe-3536-4460-bbfd-0759210fd3bc",
   "metadata": {},
   "source": [
    "We can use the [explore()](https://geopandas.org/en/stable/docs/reference/api/geopandas.GeoDataFrame.explore.html) method to create an interactive folium map from the GeoDataFrame."
   ]
  },
  {
   "cell_type": "code",
   "execution_count": null,
   "id": "345db8df-9cb3-4cd9-9ced-5528ab173350",
   "metadata": {},
   "outputs": [],
   "source": [
    "districts_gdf.explore()"
   ]
  },
  {
   "cell_type": "code",
   "execution_count": null,
   "id": "5d923822-6677-48d8-97af-f4f85379fc25",
   "metadata": {},
   "outputs": [],
   "source": [
    "districts_gdf.explore(\n",
    "    color='black', \n",
    "    style_kwds={'fillOpacity': 0.3, 'weight': 0.5},\n",
    "    tiles='Stamen Terrain')"
   ]
  },
  {
   "cell_type": "code",
   "execution_count": null,
   "id": "ee96ce02-fa46-4c32-81c9-4f795fc2dfd9",
   "metadata": {},
   "outputs": [],
   "source": [
    "roads_gdf"
   ]
  },
  {
   "cell_type": "code",
   "execution_count": null,
   "id": "75656673-1461-41ca-ba9e-5279dd094341",
   "metadata": {},
   "outputs": [],
   "source": [
    "def get_category(row):\n",
    "    ref = str(row['ref'])\n",
    "    if 'NH' in ref:\n",
    "        return 'NH'\n",
    "    elif 'SH' in ref:\n",
    "        return 'SH'\n",
    "    else:\n",
    "        return 'NA'\n",
    "    \n",
    "roads_gdf['category'] = roads_gdf.apply(get_category, axis=1)\n",
    "roads_gdf"
   ]
  },
  {
   "cell_type": "code",
   "execution_count": null,
   "id": "4214351a-78e0-4ae4-b847-68fd7bb252b1",
   "metadata": {},
   "outputs": [],
   "source": [
    "filtered = roads_gdf[roads_gdf['category'].isin(['NH', 'SH'])]\n",
    "filtered"
   ]
  },
  {
   "cell_type": "code",
   "execution_count": null,
   "id": "9a75c594-5640-4a74-b4cf-a16e4aff6009",
   "metadata": {},
   "outputs": [],
   "source": [
    "filtered.explore(\n",
    "    column='category', \n",
    "    categories=['NH', 'SH'], \n",
    "    cmap=['#1f78b4', '#e31a1c'],\n",
    "    categorical=True\n",
    ")"
   ]
  },
  {
   "cell_type": "markdown",
   "id": "cadce17c-1b8c-4ff6-82e8-74980f2d6731",
   "metadata": {},
   "source": [
    "You can have fine-grained control over how each feature is styled on the map. The `explore()` function takes a `style_function` parameter where you can specify a function that returns style properties using any of the supported parameters. The function is passed on each feature as a GeoJSON object and you can use any columns values to create your style. \n",
    "\n",
    "The function below will stlye all features of 'NH' category with thicker lines."
   ]
  },
  {
   "cell_type": "code",
   "execution_count": null,
   "id": "1338a1c0-e244-41b5-9bfc-86298bcaad0c",
   "metadata": {},
   "outputs": [],
   "source": [
    "def style(feature):\n",
    "    if feature['properties']['category'] == 'NH':\n",
    "        return {'weight': 2}\n",
    "    else:\n",
    "        return {'weight': 0.5}\n",
    "\n",
    "filtered.explore(\n",
    "    column='category', \n",
    "    categories=['NH', 'SH'], \n",
    "    cmap=['#1f78b4', '#e31a1c'],\n",
    "    categorical=True,\n",
    "    style_kwds={'style_function':style}\n",
    ")\n"
   ]
  },
  {
   "cell_type": "markdown",
   "id": "a36e6bde-6329-4daf-8d62-8f2a35c1b913",
   "metadata": {},
   "source": [
    "When you call `explore()` a folium object is created. You can save that object and add more layers to the same object."
   ]
  },
  {
   "cell_type": "code",
   "execution_count": null,
   "id": "87144113-39f7-4ef8-9155-fdda44bdb96f",
   "metadata": {},
   "outputs": [],
   "source": [
    "m = districts_gdf.explore(\n",
    "    color='black', \n",
    "    style_kwds={'fillOpacity': 0.3, 'weight':0.5},\n",
    "    name='districts',\n",
    "    tooltip=False,\n",
    "    tiles='Stamen Terrain')\n",
    "\n",
    "\n",
    "def style(feature):\n",
    "    if feature['properties']['category'] == 'NH':\n",
    "        return {'weight': 2}\n",
    "    else:\n",
    "        return {'weight': 0.5}\n",
    "\n",
    "filtered.explore(\n",
    "    m=m,\n",
    "    column='category', \n",
    "    categories=['NH', 'SH'], \n",
    "    cmap=['#1f78b4', '#e31a1c'],\n",
    "    categorical=True,\n",
    "    style_kwds={'style_function':style}\n",
    ")\n",
    "\n",
    "m"
   ]
  },
  {
   "cell_type": "markdown",
   "id": "8bf139c8-3bce-47a2-9d7f-33415e90a8de",
   "metadata": {},
   "source": [
    "To make our map easier to explore, we also add a *Layer Control* that displays the list of layers on the top-right corner and also allows the users to turn them on or off. We need to add the `name` parameter to the `explore()` function with the name that will be displayed in the layer control."
   ]
  },
  {
   "cell_type": "code",
   "execution_count": null,
   "id": "08b67082-dff0-4692-8cba-88c4bc113789",
   "metadata": {},
   "outputs": [],
   "source": [
    "m = districts_gdf.explore(\n",
    "    color='black', \n",
    "    style_kwds={'fillOpacity': 0.3, 'weight':0.5},\n",
    "    tooltip=False,\n",
    "    tiles='Stamen Terrain',\n",
    "    name='Districts')\n",
    "\n",
    "\n",
    "def style(feature):\n",
    "    if feature['properties']['category'] == 'NH':\n",
    "        return {'weight': 2}\n",
    "    else:\n",
    "        return {'weight': 0.5}\n",
    "\n",
    "filtered.explore(\n",
    "    m=m,\n",
    "    column='category', \n",
    "    categories=['NH', 'SH'], \n",
    "    cmap=['#1f78b4', '#e31a1c'],\n",
    "    categorical=True,\n",
    "    style_kwds={'style_function':style},\n",
    "    name='Highways')\n",
    "\n",
    "folium.LayerControl().add_to(m)\n",
    "\n",
    "m"
   ]
  },
  {
   "cell_type": "markdown",
   "id": "d4f1d2b2-3592-402d-967b-0fc7c3fc2363",
   "metadata": {},
   "source": [
    "## Exercise\n",
    "\n",
    "Add the `state_gdf` layer to the folium map below with a thick blue border and no fill. Save the resulting map as a HTML file on your computer.\n",
    "\n",
    "Hint: Use the `style_kwds` with *'fill'* and *'weight'* options."
   ]
  }
 ],
 "metadata": {
  "kernelspec": {
   "display_name": "Python 3 (ipykernel)",
   "language": "python",
   "name": "python3"
  },
  "language_info": {
   "codemirror_mode": {
    "name": "ipython",
    "version": 3
   },
   "file_extension": ".py",
   "mimetype": "text/x-python",
   "name": "python",
   "nbconvert_exporter": "python",
   "pygments_lexer": "ipython3",
   "version": "3.10.5"
  }
 },
 "nbformat": 4,
 "nbformat_minor": 5
}
